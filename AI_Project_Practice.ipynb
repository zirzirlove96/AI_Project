{
  "nbformat": 4,
  "nbformat_minor": 0,
  "metadata": {
    "colab": {
      "provenance": [],
      "authorship_tag": "ABX9TyPsFgF+OaBuLZ3PRHNdNchj",
      "include_colab_link": true
    },
    "kernelspec": {
      "name": "ir",
      "display_name": "R"
    },
    "language_info": {
      "name": "R"
    }
  },
  "cells": [
    {
      "cell_type": "markdown",
      "metadata": {
        "id": "view-in-github",
        "colab_type": "text"
      },
      "source": [
        "<a href=\"https://colab.research.google.com/github/zirzirlove96/AI_Project/blob/main/AI_Project_Practice.ipynb\" target=\"_parent\"><img src=\"https://colab.research.google.com/assets/colab-badge.svg\" alt=\"Open In Colab\"/></a>"
      ]
    },
    {
      "cell_type": "code",
      "execution_count": 5,
      "metadata": {
        "colab": {
          "base_uri": "https://localhost:8080/",
          "height": 161
        },
        "id": "C9rmD6uQs-kt",
        "outputId": "369a0378-3ad6-4958-ca92-71f0fa9e1ccc"
      },
      "outputs": [
        {
          "output_type": "display_data",
          "data": {
            "text/html": [
              "<table class=\"dataframe\">\n",
              "<caption>A Time Series: 3 × 4</caption>\n",
              "<thead>\n",
              "\t<tr><th></th><th scope=col>Qtr1</th><th scope=col>Qtr2</th><th scope=col>Qtr3</th><th scope=col>Qtr4</th></tr>\n",
              "</thead>\n",
              "<tbody>\n",
              "\t<tr><th scope=row>2021</th><td>  </td><td> 1</td><td> 2</td><td> 3</td></tr>\n",
              "\t<tr><th scope=row>2022</th><td> 4</td><td> 5</td><td> 6</td><td> 7</td></tr>\n",
              "\t<tr><th scope=row>2023</th><td> 8</td><td> 9</td><td>10</td><td>  </td></tr>\n",
              "</tbody>\n",
              "</table>\n"
            ],
            "text/markdown": "\nA Time Series: 3 × 4\n\n| <!--/--> | Qtr1 | Qtr2 | Qtr3 | Qtr4 |\n|---|---|---|---|---|\n| 2021 | <!----> |  1 |  2 |  3 |\n| 2022 |  4 |  5 |  6 |  7 |\n| 2023 |  8 |  9 | 10 | <!----> |\n\n",
            "text/latex": "A Time Series: 3 × 4\n\\begin{tabular}{r|llll}\n  & Qtr1 & Qtr2 & Qtr3 & Qtr4\\\\\n\\hline\n\t2021 &    &  1 &  2 &  3\\\\\n\t2022 &  4 &  5 &  6 &  7\\\\\n\t2023 &  8 &  9 & 10 &   \\\\\n\\end{tabular}\n",
            "text/plain": [
              "     Qtr1 Qtr2 Qtr3 Qtr4\n",
              "2021       1    2    3  \n",
              "2022  4    5    6    7  \n",
              "2023  8    9   10       "
            ]
          },
          "metadata": {}
        }
      ],
      "source": [
        "ts(1:10, frequency=4, start=c(2021,2))"
      ]
    },
    {
      "cell_type": "markdown",
      "source": [
        "ts : 데이터 전처리 (데이터 분석을 위해 수집한 데이터를 분석에 적합한 형태로 가공하는 과정)\n",
        "\n",
        "ts(1:10) : 1 ~ 10까지\n",
        "\n",
        "ts(frequency=4) : 4분기로 나눈 자료\n",
        "\n",
        "ts(start=c(2021,2)) : 시작이 2021년 2분기 시작"
      ],
      "metadata": {
        "id": "8tW8ddRvZzy5"
      }
    },
    {
      "cell_type": "code",
      "source": [
        "dd<-matrix(c(1342, 1442, 1252, 1343,\n",
        "                1425, 1362, 1256, 1272,\n",
        "\t              1243, 1359, 1412, 1253,\n",
        "                1201, 1478, 1322, 1406,\n",
        "                1254, 1289, 1497, 1208))\n",
        "\n",
        "dd.ts <- ts(data=dd, start = c(2016,1), frequency=4)\n",
        "dd.ts"
      ],
      "metadata": {
        "colab": {
          "base_uri": "https://localhost:8080/",
          "height": 224
        },
        "id": "qmm757IHa5kd",
        "outputId": "88395e57-dfc2-482d-ba4d-9ce0137d9ee0"
      },
      "execution_count": 7,
      "outputs": [
        {
          "output_type": "display_data",
          "data": {
            "text/html": [
              "<table class=\"dataframe\">\n",
              "<caption>A Time Series: 5 × 4</caption>\n",
              "<thead>\n",
              "\t<tr><th></th><th scope=col>Qtr1</th><th scope=col>Qtr2</th><th scope=col>Qtr3</th><th scope=col>Qtr4</th></tr>\n",
              "</thead>\n",
              "<tbody>\n",
              "\t<tr><th scope=row>2016</th><td>1342</td><td>1442</td><td>1252</td><td>1343</td></tr>\n",
              "\t<tr><th scope=row>2017</th><td>1425</td><td>1362</td><td>1256</td><td>1272</td></tr>\n",
              "\t<tr><th scope=row>2018</th><td>1243</td><td>1359</td><td>1412</td><td>1253</td></tr>\n",
              "\t<tr><th scope=row>2019</th><td>1201</td><td>1478</td><td>1322</td><td>1406</td></tr>\n",
              "\t<tr><th scope=row>2020</th><td>1254</td><td>1289</td><td>1497</td><td>1208</td></tr>\n",
              "</tbody>\n",
              "</table>\n"
            ],
            "text/markdown": "\nA Time Series: 5 × 4\n\n| <!--/--> | Qtr1 | Qtr2 | Qtr3 | Qtr4 |\n|---|---|---|---|---|\n| 2016 | 1342 | 1442 | 1252 | 1343 |\n| 2017 | 1425 | 1362 | 1256 | 1272 |\n| 2018 | 1243 | 1359 | 1412 | 1253 |\n| 2019 | 1201 | 1478 | 1322 | 1406 |\n| 2020 | 1254 | 1289 | 1497 | 1208 |\n\n",
            "text/latex": "A Time Series: 5 × 4\n\\begin{tabular}{r|llll}\n  & Qtr1 & Qtr2 & Qtr3 & Qtr4\\\\\n\\hline\n\t2016 & 1342 & 1442 & 1252 & 1343\\\\\n\t2017 & 1425 & 1362 & 1256 & 1272\\\\\n\t2018 & 1243 & 1359 & 1412 & 1253\\\\\n\t2019 & 1201 & 1478 & 1322 & 1406\\\\\n\t2020 & 1254 & 1289 & 1497 & 1208\\\\\n\\end{tabular}\n",
            "text/plain": [
              "     Qtr1 Qtr2 Qtr3 Qtr4\n",
              "2016 1342 1442 1252 1343\n",
              "2017 1425 1362 1256 1272\n",
              "2018 1243 1359 1412 1253\n",
              "2019 1201 1478 1322 1406\n",
              "2020 1254 1289 1497 1208"
            ]
          },
          "metadata": {}
        }
      ]
    },
    {
      "cell_type": "markdown",
      "source": [
        "matrix : 행렬\n",
        "\n",
        "data에 dd를 담아서 전처리하는 과정이다."
      ],
      "metadata": {
        "id": "cxCgpxgnbM2e"
      }
    }
  ]
}